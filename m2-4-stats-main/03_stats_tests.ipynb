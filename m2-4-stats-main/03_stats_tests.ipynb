{
 "cells": [
  {
   "cell_type": "markdown",
   "metadata": {},
   "source": [
    "# Some Distributions and associated tests\n",
    "\n",
    "When doing statistical testing, we first decide which distribution we're testing agaisnt and then apply the relevant statistical test.\n",
    "\n",
    "# Binomial Distribution"
   ]
  },
  {
   "cell_type": "code",
   "execution_count": 1,
   "metadata": {},
   "outputs": [
    {
     "name": "stdout",
     "output_type": "stream",
     "text": [
      "[0 1 1 1 0 0 0 1 0 0 0 1 0 1 1 0 0 0 0 1 1 0 1 1 1 1 0 1 0 1 1 1 0 0 0 1 0\n",
      " 1 1 1 0 1 1 1 0 1 1 1 1 0]\n",
      "28\n"
     ]
    },
    {
     "data": {
      "text/plain": [
       "<AxesSubplot:>"
      ]
     },
     "execution_count": 1,
     "metadata": {},
     "output_type": "execute_result"
    },
    {
     "data": {
      "image/png": "[encoded data removed]",
      "text/plain": [
       "<Figure size 432x288 with 1 Axes>"
      ]
     },
     "metadata": {
      "needs_background": "light"
     },
     "output_type": "display_data"
    }
   ],
   "source": [
    "import numpy as np\n",
    "import pandas as pd\n",
    "import scipy as sc\n",
    "import seaborn as sns\n",
    "\n",
    "dt = (np.random.rand(50) > 0.5).astype(int)\n",
    "print(dt)\n",
    "print(dt.sum())\n",
    "pd.Series(dt).astype(int).hist()"
   ]
  },
  {
   "cell_type": "markdown",
   "metadata": {},
   "source": [
    "### Testing from a binomial distribution\n",
    "\n",
    "The binomial distribution depends on a single parameter (the probability $p$ of getting \"heads\").\n",
    "\n",
    "Because of that, [we can test if a sample comes from](https://en.wikipedia.org/wiki/Binomial_test) a particular binomial distribution $p$ by looking only at number of trials and successes:"
   ]
  },
  {
   "cell_type": "code",
   "execution_count": 2,
   "metadata": {},
   "outputs": [
    {
     "data": {
      "text/plain": [
       "0.20263875106454063"
      ]
     },
     "execution_count": 2,
     "metadata": {},
     "output_type": "execute_result"
    }
   ],
   "source": [
    "# Perform a test that the probability of success is p.\n",
    "# This is an exact, two-sided test of the null hypothesis that \n",
    "# the probability of success in a Bernoulli experiment is p.\n",
    "# (num_successes, num_trials, probability)\n",
    "sc.stats.binom_test(30, 50, p=0.5)"
   ]
  },
  {
   "cell_type": "markdown",
   "metadata": {},
   "source": [
    "# Normal Distribution\n",
    "\n",
    "The normal distribution is the most popular distribution. It's defined by two numbers: \n",
    "\n",
    "- The **mean**\n",
    "\n",
    "- The **variance**\n",
    "\n",
    "Other than that it's the classic \"Bell Curve\" (or Gaussian) that you know about.\n",
    "\n",
    "# Central Limit Theorem\n",
    "\n",
    "The normal distribution arises normally in many situations. One of the core ideas in statistics, the [Central Limit Theorem](https://en.wikipedia.org/wiki/Central_limit_theorem) states that the average value of many observations (regardless of the original distribution they come from!) will be **normally distributed**. \n",
    "\n",
    "In mathematical terms, we say the **sampling distribution of the mean of any distribution is normally distributed**\n",
    "\n",
    "We can see this by plotting the distribution of observed $p$ with 50 coinflips with probability $p=50$. They come from a binomial distribution yet generate a normal:"
   ]
  },
  {
   "cell_type": "code",
   "execution_count": 3,
   "metadata": {},
   "outputs": [
    {
     "name": "stdout",
     "output_type": "stream",
     "text": [
      "0.0528\n"
     ]
    },
    {
     "data": {
      "text/plain": [
       "<AxesSubplot:>"
      ]
     },
     "execution_count": 3,
     "metadata": {},
     "output_type": "execute_result"
    },
    {
     "data": {
      "image/png": "[encoded data removed]",
      "text/plain": [
       "<Figure size 432x288 with 1 Axes>"
      ]
     },
     "metadata": {
      "needs_background": "light"
     },
     "output_type": "display_data"
    }
   ],
   "source": [
    "res = []\n",
    "for i in range(5000):\n",
    "    res.append((np.random.rand(50) > 0.5).mean())\n",
    "res = pd.Series(res)\n",
    "print((res > 0.6).sum() / len(res))\n",
    "res.hist(bins=25)\n"
   ]
  },
  {
   "cell_type": "markdown",
   "metadata": {},
   "source": [
    "# Testing if two samples come from the same normal\n",
    "\n",
    "Let's make the Men and women distributions from random normal distribution draws:"
   ]
  },
  {
   "cell_type": "code",
   "execution_count": 4,
   "metadata": {},
   "outputs": [
    {
     "data": {
      "text/plain": [
       "<AxesSubplot:>"
      ]
     },
     "execution_count": 4,
     "metadata": {},
     "output_type": "execute_result"
    },
    {
     "data": {
      "image/png": "[encoded data removed]",
      "text/plain": [
       "<Figure size 432x288 with 1 Axes>"
      ]
     },
     "metadata": {
      "needs_background": "light"
     },
     "output_type": "display_data"
    }
   ],
   "source": [
    "men = pd.Series(np.random.normal(180, scale=25.0, size=100))\n",
    "women = pd.Series(np.random.normal(175, scale=25.0, size=100))\n",
    "men.hist(bins=25)"
   ]
  },
  {
   "cell_type": "code",
   "execution_count": 5,
   "metadata": {},
   "outputs": [
    {
     "data": {
      "text/plain": [
       "<AxesSubplot:>"
      ]
     },
     "execution_count": 5,
     "metadata": {},
     "output_type": "execute_result"
    },
    {
     "data": {
      "image/png": "[encoded data removed]",
      "text/plain": [
       "<Figure size 432x288 with 1 Axes>"
      ]
     },
     "metadata": {
      "needs_background": "light"
     },
     "output_type": "display_data"
    }
   ],
   "source": [
    "women.hist(bins=25)"
   ]
  },
  {
   "cell_type": "markdown",
   "metadata": {},
   "source": [
    "The common test for normal distributions is the [Student's T-Test](https://en.wikipedia.org/wiki/Student%27s_t-test)\n",
    "\n",
    "We can test with `scipy.stats.t-test`:"
   ]
  },
  {
   "cell_type": "code",
   "execution_count": 6,
   "metadata": {},
   "outputs": [
    {
     "data": {
      "text/plain": [
       "Ttest_indResult(statistic=-0.6649926710218349, pvalue=0.5068289903935637)"
      ]
     },
     "execution_count": 6,
     "metadata": {},
     "output_type": "execute_result"
    }
   ],
   "source": [
    "sc.stats.ttest_ind(women, men)"
   ]
  },
  {
   "cell_type": "markdown",
   "metadata": {},
   "source": [
    "# A note about the scientific method\n",
    "\n",
    "In Science, we try to disprove ideas. When ideas survive many rounds of attempts at disproving them, we start to think they might be good.\n",
    "\n",
    "Because of this, the setup of a statistical test is a hypothesis that our idea is bad (often the **null hypothesis**, that some value is different than 0).\n",
    "\n",
    "Then we try to reject the hypothesis (eg. the value is significantly different than 0). If the test fails, we say that we **fail to reject** the initial hypothesis.\n",
    "\n",
    "# p-value\n",
    "\n",
    "When we see a **p-value**, the interpretation, is the likelihood or a false positive or false negative (the odds that our result would be different than what we observed by random chance.\n",
    "\n",
    "Generally we set a threshold (5% and 1% are common) at which we can be confident in the results of our test."
   ]
  },
  {
   "cell_type": "code",
   "execution_count": 7,
   "metadata": {},
   "outputs": [
    {
     "data": {
      "text/plain": [
       "Ttest_indResult(statistic=-0.6649926710218349, pvalue=0.5068289903935637)"
      ]
     },
     "execution_count": 7,
     "metadata": {},
     "output_type": "execute_result"
    }
   ],
   "source": [
    "sc.stats.ttest_ind(women, men)"
   ]
  },
  {
   "cell_type": "markdown",
   "metadata": {},
   "source": [
    "Here, there's about 50% odds that the difference is 0, so we **fail to reject** the null hypothesis -- men and women are the same"
   ]
  },
  {
   "cell_type": "markdown",
   "metadata": {},
   "source": [
    "# PDF and CDF\n",
    "\n",
    "When we see a distribution in a histogram plot like we did above, we are looking at the [probability density function](https://en.wikipedia.org/wiki/Probability_density_function) (or PDF) of the distribution in question. It maps any value to \"how dense\" the probability mass is at that point.\n",
    "\n",
    "On the other hand, the normalized cumulative sum of a distribution is called the [Cumulative Distribution Function](https://en.wikipedia.org/wiki/Cumulative_distribution_function) or CDF. Here are a few examples of CDF for the normal distribution with different parameters:\n",
    "\n",
    "![](Normal_Distribution_CDF.svg.png)\n",
    "\n",
    "The area under the CDF at any point tells you the probability of getting \"this value or lower\"."
   ]
  },
  {
   "cell_type": "code",
   "execution_count": 8,
   "metadata": {},
   "outputs": [
    {
     "data": {
      "text/plain": [
       "Text(0, 0.5, '$p$')"
      ]
     },
     "execution_count": 8,
     "metadata": {},
     "output_type": "execute_result"
    },
    {
     "data": {
      "image/png": "[encoded data removed]",
      "text/plain": [
       "<Figure size 432x288 with 1 Axes>"
      ]
     },
     "metadata": {
      "needs_background": "light"
     },
     "output_type": "display_data"
    }
   ],
   "source": [
    "import matplotlib.pyplot as plt\n",
    "\n",
    "cdf = men.sort_values()\n",
    "\n",
    "# calculate the proportional values of samples\n",
    "p = 1. * np.arange(len(cdf)) / (len(cdf) - 1)\n",
    "\n",
    "# plot the sorted data:\n",
    "fig = plt.figure()\n",
    "ax2 = fig.add_subplot(122)\n",
    "ax2.plot(cdf, p)\n",
    "ax2.set_xlabel('$x$')\n",
    "ax2.set_ylabel('$p$')"
   ]
  },
  {
   "cell_type": "markdown",
   "metadata": {},
   "source": [
    "You can remember we used the CDF of a lot of distributions of probabilities in previous workshops to do random draws"
   ]
  },
  {
   "cell_type": "markdown",
   "metadata": {},
   "source": [
    "# Variance\n",
    "\n",
    "variance is a statistical property of a vector. It's equal to:\n",
    "\n",
    "$$var(x) = \\dfrac{\\sum (x_i - mean(x))^2}{n-1}$$\n",
    "\n",
    "Variance tells you how \"spread out\" a vector is."
   ]
  },
  {
   "cell_type": "code",
   "execution_count": 9,
   "metadata": {},
   "outputs": [
    {
     "name": "stdout",
     "output_type": "stream",
     "text": [
      "8.25\n",
      "74.25\n",
      "0.9166666666666667\n"
     ]
    }
   ],
   "source": [
    "print(np.arange(10).var())\n",
    "print((np.arange(10) * 3).var())\n",
    "print((np.arange(10) / 3).var())"
   ]
  },
  {
   "cell_type": "markdown",
   "metadata": {},
   "source": [
    "# Standard deviation\n",
    "\n",
    "Is just the square root of the variance.\n",
    "\n",
    "# Covariance\n",
    "\n",
    "Covariance is a measure of **joint variation** between two distributions.\n",
    "\n",
    "$$cov(x, y) = \\dfrac{\\sum (x_i - mean(x))(y_i - mean(y))}{n-1}$$\n",
    "\n",
    "Note that $cov(x, x) = var(x)$\n",
    "\n",
    "![](400px-Covariance_trends.svg.png)\n",
    "\n",
    "Generally this is seen in a **covariance Matrix** relating covariance between columns:"
   ]
  },
  {
   "cell_type": "code",
   "execution_count": 10,
   "metadata": {},
   "outputs": [
    {
     "data": {
      "text/html": [
       "<div>\n",
       "<style scoped>\n",
       "    .dataframe tbody tr th:only-of-type {\n",
       "        vertical-align: middle;\n",
       "    }\n",
       "\n",
       "    .dataframe tbody tr th {\n",
       "        vertical-align: top;\n",
       "    }\n",
       "\n",
       "    .dataframe thead th {\n",
       "        text-align: right;\n",
       "    }\n",
       "</style>\n",
       "<table border=\"1\" class=\"dataframe\">\n",
       "  <thead>\n",
       "    <tr style=\"text-align: right;\">\n",
       "      <th></th>\n",
       "      <th>x</th>\n",
       "      <th>x2</th>\n",
       "      <th>x3</th>\n",
       "      <th>x4</th>\n",
       "      <th>x5</th>\n",
       "    </tr>\n",
       "  </thead>\n",
       "  <tbody>\n",
       "    <tr>\n",
       "      <th>x</th>\n",
       "      <td>83416.666667</td>\n",
       "      <td>-27805.555556</td>\n",
       "      <td>-1.238344</td>\n",
       "      <td>2.957956</td>\n",
       "      <td>83417.344750</td>\n",
       "    </tr>\n",
       "    <tr>\n",
       "      <th>x2</th>\n",
       "      <td>-27805.555556</td>\n",
       "      <td>9268.518519</td>\n",
       "      <td>0.412781</td>\n",
       "      <td>-0.985985</td>\n",
       "      <td>-27805.781583</td>\n",
       "    </tr>\n",
       "    <tr>\n",
       "      <th>x3</th>\n",
       "      <td>-1.238344</td>\n",
       "      <td>0.412781</td>\n",
       "      <td>0.088133</td>\n",
       "      <td>-0.000076</td>\n",
       "      <td>-1.238078</td>\n",
       "    </tr>\n",
       "    <tr>\n",
       "      <th>x4</th>\n",
       "      <td>2.957956</td>\n",
       "      <td>-0.985985</td>\n",
       "      <td>-0.000076</td>\n",
       "      <td>0.085597</td>\n",
       "      <td>2.956497</td>\n",
       "    </tr>\n",
       "    <tr>\n",
       "      <th>x5</th>\n",
       "      <td>83417.344750</td>\n",
       "      <td>-27805.781583</td>\n",
       "      <td>-1.238078</td>\n",
       "      <td>2.956497</td>\n",
       "      <td>83418.108187</td>\n",
       "    </tr>\n",
       "  </tbody>\n",
       "</table>\n",
       "</div>"
      ],
      "text/plain": [
       "               x            x2        x3        x4            x5\n",
       "x   83416.666667 -27805.555556 -1.238344  2.957956  83417.344750\n",
       "x2 -27805.555556   9268.518519  0.412781 -0.985985 -27805.781583\n",
       "x3     -1.238344      0.412781  0.088133 -0.000076     -1.238078\n",
       "x4      2.957956     -0.985985 -0.000076  0.085597      2.956497\n",
       "x5  83417.344750 -27805.781583 -1.238078  2.956497  83418.108187"
      ]
     },
     "execution_count": 10,
     "metadata": {},
     "output_type": "execute_result"
    }
   ],
   "source": [
    "df = pd.DataFrame({\n",
    "    'x' : np.arange(1000),\n",
    "    'x2' : -np.arange(1000) / 3,\n",
    "    'x3' : np.random.rand(1000),\n",
    "    'x4' : np.random.rand(1000),\n",
    "    'x5' : np.random.rand(1000) + np.arange(1000),   \n",
    "})\n",
    "\n",
    "df.cov()"
   ]
  },
  {
   "cell_type": "markdown",
   "metadata": {},
   "source": [
    "# Correlation\n",
    "\n",
    "Is the analogue of standard deviation for covariance. The formula is:\n",
    "\n",
    "$$cov(x, y) = \\dfrac{\\sum (x_i - mean(x))(y_i - mean(y))}{\\sqrt{\\sum (x_i - mean(x))^2(y_i - mean(y))^2}}$$\n",
    "\n",
    "It generally tells you how closely tied two variables are\n",
    "\n",
    "![](Correlation_examples2.svg.png)\n",
    "\n",
    "Note that we generally use the correlation coefficient to analyze data, because it's easy to interpret:\n",
    "\n",
    "- negative 1 is perfect negative correlation\n",
    "\n",
    "- 0 is perfectly uncorrelated\n",
    "\n",
    "- plus 1 is perfect correlation"
   ]
  },
  {
   "cell_type": "code",
   "execution_count": 11,
   "metadata": {},
   "outputs": [
    {
     "data": {
      "text/html": [
       "<div>\n",
       "<style scoped>\n",
       "    .dataframe tbody tr th:only-of-type {\n",
       "        vertical-align: middle;\n",
       "    }\n",
       "\n",
       "    .dataframe tbody tr th {\n",
       "        vertical-align: top;\n",
       "    }\n",
       "\n",
       "    .dataframe thead th {\n",
       "        text-align: right;\n",
       "    }\n",
       "</style>\n",
       "<table border=\"1\" class=\"dataframe\">\n",
       "  <thead>\n",
       "    <tr style=\"text-align: right;\">\n",
       "      <th></th>\n",
       "      <th>x</th>\n",
       "      <th>x2</th>\n",
       "      <th>x3</th>\n",
       "      <th>x4</th>\n",
       "      <th>x5</th>\n",
       "    </tr>\n",
       "  </thead>\n",
       "  <tbody>\n",
       "    <tr>\n",
       "      <th>x</th>\n",
       "      <td>1.000000</td>\n",
       "      <td>-1.000000</td>\n",
       "      <td>-0.014443</td>\n",
       "      <td>0.035005</td>\n",
       "      <td>0.999999</td>\n",
       "    </tr>\n",
       "    <tr>\n",
       "      <th>x2</th>\n",
       "      <td>-1.000000</td>\n",
       "      <td>1.000000</td>\n",
       "      <td>0.014443</td>\n",
       "      <td>-0.035005</td>\n",
       "      <td>-0.999999</td>\n",
       "    </tr>\n",
       "    <tr>\n",
       "      <th>x3</th>\n",
       "      <td>-0.014443</td>\n",
       "      <td>0.014443</td>\n",
       "      <td>1.000000</td>\n",
       "      <td>-0.000875</td>\n",
       "      <td>-0.014439</td>\n",
       "    </tr>\n",
       "    <tr>\n",
       "      <th>x4</th>\n",
       "      <td>0.035005</td>\n",
       "      <td>-0.035005</td>\n",
       "      <td>-0.000875</td>\n",
       "      <td>1.000000</td>\n",
       "      <td>0.034988</td>\n",
       "    </tr>\n",
       "    <tr>\n",
       "      <th>x5</th>\n",
       "      <td>0.999999</td>\n",
       "      <td>-0.999999</td>\n",
       "      <td>-0.014439</td>\n",
       "      <td>0.034988</td>\n",
       "      <td>1.000000</td>\n",
       "    </tr>\n",
       "  </tbody>\n",
       "</table>\n",
       "</div>"
      ],
      "text/plain": [
       "           x        x2        x3        x4        x5\n",
       "x   1.000000 -1.000000 -0.014443  0.035005  0.999999\n",
       "x2 -1.000000  1.000000  0.014443 -0.035005 -0.999999\n",
       "x3 -0.014443  0.014443  1.000000 -0.000875 -0.014439\n",
       "x4  0.035005 -0.035005 -0.000875  1.000000  0.034988\n",
       "x5  0.999999 -0.999999 -0.014439  0.034988  1.000000"
      ]
     },
     "execution_count": 11,
     "metadata": {},
     "output_type": "execute_result"
    }
   ],
   "source": [
    "df.corr()"
   ]
  },
  {
   "cell_type": "markdown",
   "metadata": {},
   "source": [
    "# Geometric interpretation of correlation\n",
    "\n",
    "Statistics and geometry are two views on the same mathematical principles! Correlation is tied to the angle between two vectors. \n",
    "\n",
    "- Vectors at a right angle to each other have correlation = 0\n",
    "\n",
    "- Vectors overlaid on each other have correlation = 1\n",
    "\n",
    "We can check this with the dot product between the vectors:"
   ]
  },
  {
   "cell_type": "code",
   "execution_count": 12,
   "metadata": {},
   "outputs": [
    {
     "name": "stdout",
     "output_type": "stream",
     "text": [
      "x, x2 : -110944500.0\n",
      "x, x3 : 255228.79502517878\n",
      "x, x4 : 262044.85636117405\n",
      "x, x5 : 333086823.8432555\n",
      "x2, x3 : -85076.26500839292\n",
      "x2, x4 : -87348.28545372469\n",
      "x2, x5 : -111028941.2810852\n",
      "x3, x4 : 266.2473364413604\n",
      "x3, x5 : 255488.76032987682\n",
      "x4, x5 : 262305.7556196794\n"
     ]
    }
   ],
   "source": [
    "from itertools import combinations\n",
    "\n",
    "for c1, c2 in list(combinations(list(df.columns), r=2)):\n",
    "    print(f\"{c1}, {c2} : {np.dot(df[c1], df[c2])}\")"
   ]
  },
  {
   "cell_type": "code",
   "execution_count": null,
   "metadata": {},
   "outputs": [],
   "source": []
  }
 ],
 "metadata": {
  "kernelspec": {
   "display_name": "Python 3",
   "language": "python",
   "name": "python3"
  },
  "language_info": {
   "codemirror_mode": {
    "name": "ipython",
    "version": 3
   },
   "file_extension": ".py",
   "mimetype": "text/x-python",
   "name": "python",
   "nbconvert_exporter": "python",
   "pygments_lexer": "ipython3",
   "version": "3.8.3"
  }
 },
 "nbformat": 4,
 "nbformat_minor": 4
}
