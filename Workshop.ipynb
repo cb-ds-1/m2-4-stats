{
 "cells": [
  {
   "cell_type": "markdown",
   "metadata": {},
   "source": [
    "# Tennis points won\n",
    "\n",
    "In the `tennis.csv` files of games played by Federer.\n",
    "\n",
    "Does Federer score more total points than his opponent on average in a game?"
   ]
  },
  {
   "cell_type": "code",
   "execution_count": 2,
   "metadata": {},
   "outputs": [
    {
     "ename": "FileNotFoundError",
     "evalue": "[Errno 2] File data/tennis.csv does not exist: 'data/tennis.csv'",
     "output_type": "error",
     "traceback": [
      "\u001b[0;31m---------------------------------------------------------------------------\u001b[0m",
      "\u001b[0;31mFileNotFoundError\u001b[0m                         Traceback (most recent call last)",
      "\u001b[0;32m<ipython-input-2-0ef137a67f49>\u001b[0m in \u001b[0;36m<module>\u001b[0;34m\u001b[0m\n\u001b[1;32m      1\u001b[0m \u001b[0;32mimport\u001b[0m \u001b[0mpandas\u001b[0m \u001b[0;32mas\u001b[0m \u001b[0mpd\u001b[0m\u001b[0;34m\u001b[0m\u001b[0;34m\u001b[0m\u001b[0m\n\u001b[1;32m      2\u001b[0m \u001b[0;34m\u001b[0m\u001b[0m\n\u001b[0;32m----> 3\u001b[0;31m \u001b[0mdf\u001b[0m \u001b[0;34m=\u001b[0m \u001b[0mpd\u001b[0m\u001b[0;34m.\u001b[0m\u001b[0mread_csv\u001b[0m\u001b[0;34m(\u001b[0m\u001b[0;34m'data/tennis.csv'\u001b[0m\u001b[0;34m)\u001b[0m\u001b[0;34m\u001b[0m\u001b[0;34m\u001b[0m\u001b[0m\n\u001b[0m\u001b[1;32m      4\u001b[0m \u001b[0;34m\u001b[0m\u001b[0m\n\u001b[1;32m      5\u001b[0m \u001b[0mprint\u001b[0m\u001b[0;34m(\u001b[0m\u001b[0mdf\u001b[0m\u001b[0;34m)\u001b[0m\u001b[0;34m\u001b[0m\u001b[0;34m\u001b[0m\u001b[0m\n",
      "\u001b[0;32m~/opt/anaconda3/lib/python3.8/site-packages/pandas/io/parsers.py\u001b[0m in \u001b[0;36mparser_f\u001b[0;34m(filepath_or_buffer, sep, delimiter, header, names, index_col, usecols, squeeze, prefix, mangle_dupe_cols, dtype, engine, converters, true_values, false_values, skipinitialspace, skiprows, skipfooter, nrows, na_values, keep_default_na, na_filter, verbose, skip_blank_lines, parse_dates, infer_datetime_format, keep_date_col, date_parser, dayfirst, cache_dates, iterator, chunksize, compression, thousands, decimal, lineterminator, quotechar, quoting, doublequote, escapechar, comment, encoding, dialect, error_bad_lines, warn_bad_lines, delim_whitespace, low_memory, memory_map, float_precision)\u001b[0m\n\u001b[1;32m    674\u001b[0m         )\n\u001b[1;32m    675\u001b[0m \u001b[0;34m\u001b[0m\u001b[0m\n\u001b[0;32m--> 676\u001b[0;31m         \u001b[0;32mreturn\u001b[0m \u001b[0m_read\u001b[0m\u001b[0;34m(\u001b[0m\u001b[0mfilepath_or_buffer\u001b[0m\u001b[0;34m,\u001b[0m \u001b[0mkwds\u001b[0m\u001b[0;34m)\u001b[0m\u001b[0;34m\u001b[0m\u001b[0;34m\u001b[0m\u001b[0m\n\u001b[0m\u001b[1;32m    677\u001b[0m \u001b[0;34m\u001b[0m\u001b[0m\n\u001b[1;32m    678\u001b[0m     \u001b[0mparser_f\u001b[0m\u001b[0;34m.\u001b[0m\u001b[0m__name__\u001b[0m \u001b[0;34m=\u001b[0m \u001b[0mname\u001b[0m\u001b[0;34m\u001b[0m\u001b[0;34m\u001b[0m\u001b[0m\n",
      "\u001b[0;32m~/opt/anaconda3/lib/python3.8/site-packages/pandas/io/parsers.py\u001b[0m in \u001b[0;36m_read\u001b[0;34m(filepath_or_buffer, kwds)\u001b[0m\n\u001b[1;32m    446\u001b[0m \u001b[0;34m\u001b[0m\u001b[0m\n\u001b[1;32m    447\u001b[0m     \u001b[0;31m# Create the parser.\u001b[0m\u001b[0;34m\u001b[0m\u001b[0;34m\u001b[0m\u001b[0;34m\u001b[0m\u001b[0m\n\u001b[0;32m--> 448\u001b[0;31m     \u001b[0mparser\u001b[0m \u001b[0;34m=\u001b[0m \u001b[0mTextFileReader\u001b[0m\u001b[0;34m(\u001b[0m\u001b[0mfp_or_buf\u001b[0m\u001b[0;34m,\u001b[0m \u001b[0;34m**\u001b[0m\u001b[0mkwds\u001b[0m\u001b[0;34m)\u001b[0m\u001b[0;34m\u001b[0m\u001b[0;34m\u001b[0m\u001b[0m\n\u001b[0m\u001b[1;32m    449\u001b[0m \u001b[0;34m\u001b[0m\u001b[0m\n\u001b[1;32m    450\u001b[0m     \u001b[0;32mif\u001b[0m \u001b[0mchunksize\u001b[0m \u001b[0;32mor\u001b[0m \u001b[0miterator\u001b[0m\u001b[0;34m:\u001b[0m\u001b[0;34m\u001b[0m\u001b[0;34m\u001b[0m\u001b[0m\n",
      "\u001b[0;32m~/opt/anaconda3/lib/python3.8/site-packages/pandas/io/parsers.py\u001b[0m in \u001b[0;36m__init__\u001b[0;34m(self, f, engine, **kwds)\u001b[0m\n\u001b[1;32m    878\u001b[0m             \u001b[0mself\u001b[0m\u001b[0;34m.\u001b[0m\u001b[0moptions\u001b[0m\u001b[0;34m[\u001b[0m\u001b[0;34m\"has_index_names\"\u001b[0m\u001b[0;34m]\u001b[0m \u001b[0;34m=\u001b[0m \u001b[0mkwds\u001b[0m\u001b[0;34m[\u001b[0m\u001b[0;34m\"has_index_names\"\u001b[0m\u001b[0;34m]\u001b[0m\u001b[0;34m\u001b[0m\u001b[0;34m\u001b[0m\u001b[0m\n\u001b[1;32m    879\u001b[0m \u001b[0;34m\u001b[0m\u001b[0m\n\u001b[0;32m--> 880\u001b[0;31m         \u001b[0mself\u001b[0m\u001b[0;34m.\u001b[0m\u001b[0m_make_engine\u001b[0m\u001b[0;34m(\u001b[0m\u001b[0mself\u001b[0m\u001b[0;34m.\u001b[0m\u001b[0mengine\u001b[0m\u001b[0;34m)\u001b[0m\u001b[0;34m\u001b[0m\u001b[0;34m\u001b[0m\u001b[0m\n\u001b[0m\u001b[1;32m    881\u001b[0m \u001b[0;34m\u001b[0m\u001b[0m\n\u001b[1;32m    882\u001b[0m     \u001b[0;32mdef\u001b[0m \u001b[0mclose\u001b[0m\u001b[0;34m(\u001b[0m\u001b[0mself\u001b[0m\u001b[0;34m)\u001b[0m\u001b[0;34m:\u001b[0m\u001b[0;34m\u001b[0m\u001b[0;34m\u001b[0m\u001b[0m\n",
      "\u001b[0;32m~/opt/anaconda3/lib/python3.8/site-packages/pandas/io/parsers.py\u001b[0m in \u001b[0;36m_make_engine\u001b[0;34m(self, engine)\u001b[0m\n\u001b[1;32m   1112\u001b[0m     \u001b[0;32mdef\u001b[0m \u001b[0m_make_engine\u001b[0m\u001b[0;34m(\u001b[0m\u001b[0mself\u001b[0m\u001b[0;34m,\u001b[0m \u001b[0mengine\u001b[0m\u001b[0;34m=\u001b[0m\u001b[0;34m\"c\"\u001b[0m\u001b[0;34m)\u001b[0m\u001b[0;34m:\u001b[0m\u001b[0;34m\u001b[0m\u001b[0;34m\u001b[0m\u001b[0m\n\u001b[1;32m   1113\u001b[0m         \u001b[0;32mif\u001b[0m \u001b[0mengine\u001b[0m \u001b[0;34m==\u001b[0m \u001b[0;34m\"c\"\u001b[0m\u001b[0;34m:\u001b[0m\u001b[0;34m\u001b[0m\u001b[0;34m\u001b[0m\u001b[0m\n\u001b[0;32m-> 1114\u001b[0;31m             \u001b[0mself\u001b[0m\u001b[0;34m.\u001b[0m\u001b[0m_engine\u001b[0m \u001b[0;34m=\u001b[0m \u001b[0mCParserWrapper\u001b[0m\u001b[0;34m(\u001b[0m\u001b[0mself\u001b[0m\u001b[0;34m.\u001b[0m\u001b[0mf\u001b[0m\u001b[0;34m,\u001b[0m \u001b[0;34m**\u001b[0m\u001b[0mself\u001b[0m\u001b[0;34m.\u001b[0m\u001b[0moptions\u001b[0m\u001b[0;34m)\u001b[0m\u001b[0;34m\u001b[0m\u001b[0;34m\u001b[0m\u001b[0m\n\u001b[0m\u001b[1;32m   1115\u001b[0m         \u001b[0;32melse\u001b[0m\u001b[0;34m:\u001b[0m\u001b[0;34m\u001b[0m\u001b[0;34m\u001b[0m\u001b[0m\n\u001b[1;32m   1116\u001b[0m             \u001b[0;32mif\u001b[0m \u001b[0mengine\u001b[0m \u001b[0;34m==\u001b[0m \u001b[0;34m\"python\"\u001b[0m\u001b[0;34m:\u001b[0m\u001b[0;34m\u001b[0m\u001b[0;34m\u001b[0m\u001b[0m\n",
      "\u001b[0;32m~/opt/anaconda3/lib/python3.8/site-packages/pandas/io/parsers.py\u001b[0m in \u001b[0;36m__init__\u001b[0;34m(self, src, **kwds)\u001b[0m\n\u001b[1;32m   1889\u001b[0m         \u001b[0mkwds\u001b[0m\u001b[0;34m[\u001b[0m\u001b[0;34m\"usecols\"\u001b[0m\u001b[0;34m]\u001b[0m \u001b[0;34m=\u001b[0m \u001b[0mself\u001b[0m\u001b[0;34m.\u001b[0m\u001b[0musecols\u001b[0m\u001b[0;34m\u001b[0m\u001b[0;34m\u001b[0m\u001b[0m\n\u001b[1;32m   1890\u001b[0m \u001b[0;34m\u001b[0m\u001b[0m\n\u001b[0;32m-> 1891\u001b[0;31m         \u001b[0mself\u001b[0m\u001b[0;34m.\u001b[0m\u001b[0m_reader\u001b[0m \u001b[0;34m=\u001b[0m \u001b[0mparsers\u001b[0m\u001b[0;34m.\u001b[0m\u001b[0mTextReader\u001b[0m\u001b[0;34m(\u001b[0m\u001b[0msrc\u001b[0m\u001b[0;34m,\u001b[0m \u001b[0;34m**\u001b[0m\u001b[0mkwds\u001b[0m\u001b[0;34m)\u001b[0m\u001b[0;34m\u001b[0m\u001b[0;34m\u001b[0m\u001b[0m\n\u001b[0m\u001b[1;32m   1892\u001b[0m         \u001b[0mself\u001b[0m\u001b[0;34m.\u001b[0m\u001b[0munnamed_cols\u001b[0m \u001b[0;34m=\u001b[0m \u001b[0mself\u001b[0m\u001b[0;34m.\u001b[0m\u001b[0m_reader\u001b[0m\u001b[0;34m.\u001b[0m\u001b[0munnamed_cols\u001b[0m\u001b[0;34m\u001b[0m\u001b[0;34m\u001b[0m\u001b[0m\n\u001b[1;32m   1893\u001b[0m \u001b[0;34m\u001b[0m\u001b[0m\n",
      "\u001b[0;32mpandas/_libs/parsers.pyx\u001b[0m in \u001b[0;36mpandas._libs.parsers.TextReader.__cinit__\u001b[0;34m()\u001b[0m\n",
      "\u001b[0;32mpandas/_libs/parsers.pyx\u001b[0m in \u001b[0;36mpandas._libs.parsers.TextReader._setup_parser_source\u001b[0;34m()\u001b[0m\n",
      "\u001b[0;31mFileNotFoundError\u001b[0m: [Errno 2] File data/tennis.csv does not exist: 'data/tennis.csv'"
     ]
    }
   ],
   "source": [
    "import pandas as pd\n",
    "\n",
    "# df = pd.read_csv('data/tennis.csv')\n",
    "\n",
    "# print(df)"
   ]
  },
  {
   "cell_type": "markdown",
   "metadata": {},
   "source": [
    "# 2. College correlations\n",
    "\n",
    "The `college.csv` filecontains a number of variables for 777 different universities and colleges in the US.\n",
    "\n",
    "### 2.1\n",
    "\n",
    "Use a scatterplot matrix to analyze the data and answer the following questions:\n",
    "\n",
    "1. Which columns are possibly from a normal distribution? Statistically test if this is the case (you'll find a function for it in `scipy.stats`). For each explain if it is or not normally distributed.\n",
    "\n",
    "2. Of the columns that aren't normally distributed, name which distribution could possibly fit them? (Use your research skills)\n",
    "\n",
    "3. Give 3 pairs of columns that are highly correlated? Give their correlation coefficients.\n",
    "\n",
    "4. Give 3 column pairs that are not correlated? Give their correlation coefficients."
   ]
  },
  {
   "cell_type": "code",
   "execution_count": 3,
   "metadata": {
    "scrolled": true
   },
   "outputs": [
    {
     "name": "stdout",
     "output_type": "stream",
     "text": [
      "                         Unnamed: 0 Private   Apps  Accept  Enroll  Top10perc  \\\n",
      "0      Abilene Christian University     Yes   1660    1232     721         23   \n",
      "1                Adelphi University     Yes   2186    1924     512         16   \n",
      "2                    Adrian College     Yes   1428    1097     336         22   \n",
      "3               Agnes Scott College     Yes    417     349     137         60   \n",
      "4         Alaska Pacific University     Yes    193     146      55         16   \n",
      "..                              ...     ...    ...     ...     ...        ...   \n",
      "772         Worcester State College      No   2197    1515     543          4   \n",
      "773               Xavier University     Yes   1959    1805     695         24   \n",
      "774  Xavier University of Louisiana     Yes   2097    1915     695         34   \n",
      "775                 Yale University     Yes  10705    2453    1317         95   \n",
      "776    York College of Pennsylvania     Yes   2989    1855     691         28   \n",
      "\n",
      "     Top25perc  F.Undergrad  P.Undergrad  Outstate  Room.Board  Books  \\\n",
      "0           52         2885          537      7440        3300    450   \n",
      "1           29         2683         1227     12280        6450    750   \n",
      "2           50         1036           99     11250        3750    400   \n",
      "3           89          510           63     12960        5450    450   \n",
      "4           44          249          869      7560        4120    800   \n",
      "..         ...          ...          ...       ...         ...    ...   \n",
      "772         26         3089         2029      6797        3900    500   \n",
      "773         47         2849         1107     11520        4960    600   \n",
      "774         61         2793          166      6900        4200    617   \n",
      "775         99         5217           83     19840        6510    630   \n",
      "776         63         2988         1726      4990        3560    500   \n",
      "\n",
      "     Personal  PhD  Terminal  S.F.Ratio  perc.alumni  Expend  Grad.Rate  \n",
      "0        2200   70        78       18.1           12    7041         60  \n",
      "1        1500   29        30       12.2           16   10527         56  \n",
      "2        1165   53        66       12.9           30    8735         54  \n",
      "3         875   92        97        7.7           37   19016         59  \n",
      "4        1500   76        72       11.9            2   10922         15  \n",
      "..        ...  ...       ...        ...          ...     ...        ...  \n",
      "772      1200   60        60       21.0           14    4469         40  \n",
      "773      1250   73        75       13.3           31    9189         83  \n",
      "774       781   67        75       14.4           20    8323         49  \n",
      "775      2115   96        96        5.8           49   40386         99  \n",
      "776      1250   75        75       18.1           28    4509         99  \n",
      "\n",
      "[777 rows x 19 columns]\n",
      "The following  columns appear to be normally distributed, as they pass our t-test null hypothesis\n",
      "         column        p-value  is_nd\n",
      "0          Apps  1.421322e-146  False\n",
      "1        Accept  4.438456e-133  False\n",
      "2        Enroll  8.535972e-101  False\n",
      "3     Top10perc   1.684600e-43  False\n",
      "4     Top25perc   5.663488e-07  False\n",
      "5   F.Undergrad   3.099232e-96  False\n",
      "6   P.Undergrad  8.270181e-199  False\n",
      "7      Outstate   3.226045e-09  False\n",
      "8    Room.Board   6.949330e-07  False\n",
      "9         Books  4.396663e-142  False\n",
      "10     Personal   4.068209e-70  False\n",
      "11          PhD   9.739466e-16  False\n",
      "12     Terminal   5.426532e-16  False\n",
      "13    S.F.Ratio   2.124747e-22  False\n",
      "14  perc.alumni   8.048582e-10  False\n",
      "15       Expend  6.720476e-134  False\n",
      "16    Grad.Rate   2.007164e-01   True\n",
      " \n",
      "The following columns appear to follow a poisson-like distribution\n",
      "('Apps', 'Accept')\n",
      "('Apps', 'Enroll')\n",
      "('Apps', 'Top10perc')\n",
      "('Apps', 'Top25perc')\n",
      "('Apps', 'F.Undergrad')\n",
      "('Apps', 'P.Undergrad')\n",
      "('Apps', 'Outstate')\n",
      "('Apps', 'Room.Board')\n",
      "('Apps', 'Books')\n",
      "('Apps', 'Personal')\n",
      "('Apps', 'PhD')\n",
      "('Apps', 'Terminal')\n",
      "('Apps', 'S.F.Ratio')\n",
      "('Apps', 'perc.alumni')\n",
      "('Apps', 'Expend')\n",
      "('Apps', 'Grad.Rate')\n",
      "('Accept', 'Enroll')\n",
      "('Accept', 'Top10perc')\n",
      "('Accept', 'Top25perc')\n",
      "('Accept', 'F.Undergrad')\n",
      "('Accept', 'P.Undergrad')\n",
      "('Accept', 'Outstate')\n",
      "('Accept', 'Room.Board')\n",
      "('Accept', 'Books')\n",
      "('Accept', 'Personal')\n",
      "('Accept', 'PhD')\n",
      "('Accept', 'Terminal')\n",
      "('Accept', 'S.F.Ratio')\n",
      "('Accept', 'perc.alumni')\n",
      "('Accept', 'Expend')\n",
      "('Accept', 'Grad.Rate')\n",
      "('Enroll', 'Top10perc')\n",
      "('Enroll', 'Top25perc')\n",
      "('Enroll', 'F.Undergrad')\n",
      "('Enroll', 'P.Undergrad')\n",
      "('Enroll', 'Outstate')\n",
      "('Enroll', 'Room.Board')\n",
      "('Enroll', 'Books')\n",
      "('Enroll', 'Personal')\n",
      "('Enroll', 'PhD')\n",
      "('Enroll', 'Terminal')\n",
      "('Enroll', 'S.F.Ratio')\n",
      "('Enroll', 'perc.alumni')\n",
      "('Enroll', 'Expend')\n",
      "('Enroll', 'Grad.Rate')\n",
      "('Top10perc', 'Top25perc')\n",
      "('Top10perc', 'F.Undergrad')\n",
      "('Top10perc', 'P.Undergrad')\n",
      "('Top10perc', 'Outstate')\n",
      "('Top10perc', 'Room.Board')\n",
      "('Top10perc', 'Books')\n",
      "('Top10perc', 'Personal')\n",
      "('Top10perc', 'PhD')\n",
      "('Top10perc', 'Terminal')\n",
      "('Top10perc', 'S.F.Ratio')\n",
      "('Top10perc', 'perc.alumni')\n",
      "('Top10perc', 'Expend')\n",
      "('Top10perc', 'Grad.Rate')\n",
      "('Top25perc', 'F.Undergrad')\n",
      "('Top25perc', 'P.Undergrad')\n",
      "('Top25perc', 'Outstate')\n",
      "('Top25perc', 'Room.Board')\n",
      "('Top25perc', 'Books')\n",
      "('Top25perc', 'Personal')\n",
      "('Top25perc', 'PhD')\n",
      "('Top25perc', 'Terminal')\n",
      "('Top25perc', 'S.F.Ratio')\n",
      "('Top25perc', 'perc.alumni')\n",
      "('Top25perc', 'Expend')\n",
      "('Top25perc', 'Grad.Rate')\n",
      "('F.Undergrad', 'P.Undergrad')\n",
      "('F.Undergrad', 'Outstate')\n",
      "('F.Undergrad', 'Room.Board')\n",
      "('F.Undergrad', 'Books')\n",
      "('F.Undergrad', 'Personal')\n",
      "('F.Undergrad', 'PhD')\n",
      "('F.Undergrad', 'Terminal')\n",
      "('F.Undergrad', 'S.F.Ratio')\n",
      "('F.Undergrad', 'perc.alumni')\n",
      "('F.Undergrad', 'Expend')\n",
      "('F.Undergrad', 'Grad.Rate')\n",
      "('P.Undergrad', 'Outstate')\n",
      "('P.Undergrad', 'Room.Board')\n",
      "('P.Undergrad', 'Books')\n",
      "('P.Undergrad', 'Personal')\n",
      "('P.Undergrad', 'PhD')\n",
      "('P.Undergrad', 'Terminal')\n",
      "('P.Undergrad', 'S.F.Ratio')\n",
      "('P.Undergrad', 'perc.alumni')\n",
      "('P.Undergrad', 'Expend')\n",
      "('P.Undergrad', 'Grad.Rate')\n",
      "('Outstate', 'Room.Board')\n",
      "('Outstate', 'Books')\n",
      "('Outstate', 'Personal')\n",
      "('Outstate', 'PhD')\n",
      "('Outstate', 'Terminal')\n",
      "('Outstate', 'S.F.Ratio')\n",
      "('Outstate', 'perc.alumni')\n",
      "('Outstate', 'Expend')\n",
      "('Outstate', 'Grad.Rate')\n",
      "('Room.Board', 'Books')\n",
      "('Room.Board', 'Personal')\n",
      "('Room.Board', 'PhD')\n",
      "('Room.Board', 'Terminal')\n",
      "('Room.Board', 'S.F.Ratio')\n",
      "('Room.Board', 'perc.alumni')\n",
      "('Room.Board', 'Expend')\n",
      "('Room.Board', 'Grad.Rate')\n",
      "('Books', 'Personal')\n",
      "('Books', 'PhD')\n",
      "('Books', 'Terminal')\n",
      "('Books', 'S.F.Ratio')\n",
      "('Books', 'perc.alumni')\n",
      "('Books', 'Expend')\n",
      "('Books', 'Grad.Rate')\n",
      "('Personal', 'PhD')\n",
      "('Personal', 'Terminal')\n",
      "('Personal', 'S.F.Ratio')\n",
      "('Personal', 'perc.alumni')\n",
      "('Personal', 'Expend')\n",
      "('Personal', 'Grad.Rate')\n",
      "('PhD', 'Terminal')\n",
      "('PhD', 'S.F.Ratio')\n",
      "('PhD', 'perc.alumni')\n",
      "('PhD', 'Expend')\n",
      "('PhD', 'Grad.Rate')\n",
      "('Terminal', 'S.F.Ratio')\n",
      "('Terminal', 'perc.alumni')\n",
      "('Terminal', 'Expend')\n",
      "('Terminal', 'Grad.Rate')\n",
      "('S.F.Ratio', 'perc.alumni')\n",
      "('S.F.Ratio', 'Expend')\n",
      "('S.F.Ratio', 'Grad.Rate')\n",
      "('perc.alumni', 'Expend')\n",
      "('perc.alumni', 'Grad.Rate')\n",
      "('Expend', 'Grad.Rate')\n"
     ]
    },
    {
     "data": {
      "image/png": "[encoded data removed]",
      "text/plain": [
       "<Figure size 432x288 with 1 Axes>"
      ]
     },
     "metadata": {
      "needs_background": "light"
     },
     "output_type": "display_data"
    }
   ],
   "source": [
    "import pandas as pd\n",
    "from itertools import combinations\n",
    "import matplotlib as plt\n",
    "import numpy as np\n",
    "from scipy import stats\n",
    "\n",
    "df = pd.read_csv('data/college.csv')\n",
    "cols = list(df.columns)\n",
    "del cols[0]\n",
    "del cols[0]\n",
    "print(df)\n",
    "alpha = 1e-3\n",
    "cdf = pd.DataFrame({\n",
    "    'column': cols\n",
    "})\n",
    "\n",
    "cdf['p-value'] = cdf.column.apply(lambda row: stats.normaltest(df[row])[1])\n",
    "cdf['is_nd'] = cdf['p-value'] > alpha\n",
    "is_nd = cdf[cdf['is_nd'] == False]\n",
    "print(\"The following  columns appear to be normally distributed, as they pass our t-test null hypothesis\")\n",
    "print(cdf)\n",
    "\"\"\"\n",
    "2.\n",
    "\"\"\"\n",
    "\"\"\"\n",
    "The Unnamed column is not a distribution, it's just a list of unique names\n",
    "\n",
    "The Private column is a binomial distribution (True or `false`), what \n",
    "makes binomial is the number of trials (is a college private or not)\n",
    "occurs once for each college.\n",
    "All other columns who were not of a normal distribution seem to follow\n",
    "a poisson-like distribution, as seen bellow:\n",
    "\"\"\"\n",
    "print(\" \")\n",
    "print(\"The following columns appear to follow a poisson-like distribution\")\n",
    "for col in list(is_nd.column):\n",
    "    gr = pd.Series(df[col])\n",
    "    gr.hist()\n",
    "\n",
    "for comb in  combinations(cols, 2):\n",
    "    print(comb)"
   ]
  },
  {
   "cell_type": "markdown",
   "metadata": {},
   "source": [
    "### 2.2 Boxplot\n",
    "\n",
    "Make a boxplot of private vs outstate colleges. It should look like:\n",
    "\n",
    "![](boxplort.png)"
   ]
  },
  {
   "cell_type": "markdown",
   "metadata": {},
   "source": [
    "# 3. Auto data\n",
    "\n",
    "The `auto.csv` data file is malformed.\n",
    "\n",
    "Fix it (using only python) so that it can be read into pandas, and then give a scatterplot matrix of horsepower, weight, year and mpg.\n",
    "\n",
    "Did cars get more efficient over time? Make an argument on this question."
   ]
  },
  {
   "cell_type": "markdown",
   "metadata": {},
   "source": [
    "### 3.2 Auto Statistics\n",
    "\n",
    "What is the mean, median and standard deviation of each quantitative feature?\n"
   ]
  },
  {
   "cell_type": "markdown",
   "metadata": {},
   "source": [
    "### 3.3 data removal\n",
    "\n",
    "Remove the 10th through 85th observations. \n",
    "\n",
    "Does the mean statistically significantly change for each of the columns?\n",
    "\n"
   ]
  },
  {
   "cell_type": "markdown",
   "metadata": {},
   "source": [
    "# 4. Boston housing dataset\n",
    "\n",
    "You can use `from sklearn.datasets import load_boston` to load the boston housing dataset.\n",
    "\n",
    "The `load_boston()['DESCR']` will describe columns for you.\n",
    "\n",
    "Are any of the columns associated with per capita crime rate? If so, show the numeric relationship and give a possible explanation for highly correlated/negatively correlated features"
   ]
  },
  {
   "cell_type": "markdown",
   "metadata": {},
   "source": [
    "### 4.2 Do any of the suburbs of Boston appear to have particularly high crime rates? Tax rates? Pupil-teacher ratios?\n",
    "\n",
    "\n"
   ]
  },
  {
   "cell_type": "markdown",
   "metadata": {},
   "source": [
    "### 4.3 How many of the suburbs in this data set bound the Charles river?"
   ]
  },
  {
   "cell_type": "markdown",
   "metadata": {},
   "source": [
    "### 4.4 What is the median pupil-teacher ratio among the towns in this data set?"
   ]
  },
  {
   "cell_type": "markdown",
   "metadata": {},
   "source": [
    "### 4.5 Which suburb of Boston has lowest median value of owneroccupied homes? What are the values of the other predictors for that suburb, and how do those values compare to the overall ranges for those predictors? Comment on your findings.\n",
    "\n"
   ]
  },
  {
   "cell_type": "markdown",
   "metadata": {},
   "source": [
    "### 4.6 In this data set, how many of the suburbs average more than seven rooms per dwelling? More than eight rooms per dwelling? Comment on the suburbs that average more than eight rooms per dwelling.\n",
    "\n",
    "\n"
   ]
  },
  {
   "cell_type": "code",
   "execution_count": null,
   "metadata": {},
   "outputs": [],
   "source": []
  }
 ],
 "metadata": {
  "kernelspec": {
   "display_name": "Python 3",
   "language": "python",
   "name": "python3"
  },
  "language_info": {
   "codemirror_mode": {
    "name": "ipython",
    "version": 3
   },
   "file_extension": ".py",
   "mimetype": "text/x-python",
   "name": "python",
   "nbconvert_exporter": "python",
   "pygments_lexer": "ipython3",
   "version": "3.8.3"
  }
 },
 "nbformat": 4,
 "nbformat_minor": 2
}
